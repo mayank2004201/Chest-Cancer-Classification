{
 "cells": [
  {
   "cell_type": "code",
   "execution_count": 18,
   "id": "6a96fa9d",
   "metadata": {},
   "outputs": [],
   "source": [
    "d = {\"key\":\"value\"}"
   ]
  },
  {
   "cell_type": "code",
   "execution_count": 19,
   "id": "507e47fa",
   "metadata": {},
   "outputs": [
    {
     "data": {
      "text/plain": [
       "'value'"
      ]
     },
     "execution_count": 19,
     "metadata": {},
     "output_type": "execute_result"
    }
   ],
   "source": [
    "d[\"key\"]"
   ]
  },
  {
   "cell_type": "code",
   "execution_count": 20,
   "id": "561c93b9",
   "metadata": {},
   "outputs": [],
   "source": [
    "# ConfigBox allows easy acces to dictionary elements in instead of calling it like dict_name[\"key_name\"]\n",
    "from box import ConfigBox\n",
    "d1 = ConfigBox(d)"
   ]
  },
  {
   "cell_type": "code",
   "execution_count": 21,
   "id": "df5ceca6",
   "metadata": {},
   "outputs": [
    {
     "data": {
      "text/plain": [
       "'value'"
      ]
     },
     "execution_count": 21,
     "metadata": {},
     "output_type": "execute_result"
    }
   ],
   "source": [
    "d1.key"
   ]
  },
  {
   "cell_type": "code",
   "execution_count": 22,
   "id": "df9f7e23",
   "metadata": {},
   "outputs": [],
   "source": [
    "def total(x:int, y:int):\n",
    "    return x+y"
   ]
  },
  {
   "cell_type": "code",
   "execution_count": 23,
   "id": "d44cd8b0",
   "metadata": {},
   "outputs": [
    {
     "data": {
      "text/plain": [
       "9"
      ]
     },
     "execution_count": 23,
     "metadata": {},
     "output_type": "execute_result"
    }
   ],
   "source": [
    "total(x=4,y=5)"
   ]
  },
  {
   "cell_type": "code",
   "execution_count": 24,
   "id": "b8eb7ba1",
   "metadata": {},
   "outputs": [
    {
     "name": "stderr",
     "output_type": "stream",
     "text": [
      "C:\\Users\\Mayank Goel\\AppData\\Local\\Temp\\ipykernel_10840\\2820849925.py:12: PydanticDeprecatedSince20: The `validate_arguments` method is deprecated; use `validate_call` instead. Deprecated in Pydantic V2.0 to be removed in V3.0. See Pydantic V2 Migration Guide at https://errors.pydantic.dev/2.11/migration/\n",
      "  @validate_arguments\n"
     ]
    }
   ],
   "source": [
    "from pydantic import validate_arguments\n",
    "# declaring validate_arguments makes sure that the arguments pased in the function have same datatype as those used when \n",
    "# defining the function otherwise it changes the datatype of the argument that does not match with the one define din the function\n",
    "#  eg \n",
    "# @validate_arguments\n",
    "# def sum(x:int,y:int)\n",
    "#  now if sum(x=4,y=\"345\")\n",
    "# validate_arguments will change y datatype from string to int as defined in the sum function\n",
    "# this esnures both the values passed in the function are int datatype and if not then changes the datatype as that is accepted or defined within the function\n",
    "\n",
    "\n",
    "@validate_arguments\n",
    "def product(x: int, y: int) -> int:\n",
    "    return x * y"
   ]
  },
  {
   "cell_type": "code",
   "execution_count": 25,
   "id": "b3204753",
   "metadata": {},
   "outputs": [
    {
     "data": {
      "text/plain": [
       "12"
      ]
     },
     "execution_count": 25,
     "metadata": {},
     "output_type": "execute_result"
    }
   ],
   "source": [
    "product(4,3)"
   ]
  },
  {
   "cell_type": "code",
   "execution_count": 26,
   "id": "fb1e31a9",
   "metadata": {},
   "outputs": [
    {
     "data": {
      "text/plain": [
       "128"
      ]
     },
     "execution_count": 26,
     "metadata": {},
     "output_type": "execute_result"
    }
   ],
   "source": [
    "product(4,'32')\n"
   ]
  }
 ],
 "metadata": {
  "kernelspec": {
   "display_name": "chest_cancer",
   "language": "python",
   "name": "python3"
  },
  "language_info": {
   "codemirror_mode": {
    "name": "ipython",
    "version": 3
   },
   "file_extension": ".py",
   "mimetype": "text/x-python",
   "name": "python",
   "nbconvert_exporter": "python",
   "pygments_lexer": "ipython3",
   "version": "3.12.10"
  }
 },
 "nbformat": 4,
 "nbformat_minor": 5
}
