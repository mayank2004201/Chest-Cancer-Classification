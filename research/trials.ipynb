{
 "cells": [
  {
   "cell_type": "code",
   "execution_count": 18,
   "id": "6a96fa9d",
   "metadata": {},
   "outputs": [],
   "source": [
    "d = {\"key\":\"value\"}"
   ]
  },
  {
   "cell_type": "code",
   "execution_count": 19,
   "id": "507e47fa",
   "metadata": {},
   "outputs": [
    {
     "data": {
      "text/plain": [
       "'value'"
      ]
     },
     "execution_count": 19,
     "metadata": {},
     "output_type": "execute_result"
    }
   ],
   "source": [
    "d[\"key\"]"
   ]
  },
  {
   "cell_type": "code",
   "execution_count": 20,
   "id": "561c93b9",
   "metadata": {},
   "outputs": [],
   "source": [
    "# ConfigBox allows easy acces to dictionary elements in instead of calling it like dict_name[\"key_name\"]\n",
    "from box import ConfigBox\n",
    "d1 = ConfigBox(d)"
   ]
  },
  {
   "cell_type": "code",
   "execution_count": 21,
   "id": "df5ceca6",
   "metadata": {},
   "outputs": [
    {
     "data": {
      "text/plain": [
       "'value'"
      ]
     },
     "execution_count": 21,
     "metadata": {},
     "output_type": "execute_result"
    }
   ],
   "source": [
    "d1.key"
   ]
  },
  {
   "cell_type": "code",
   "execution_count": 22,
   "id": "df9f7e23",
   "metadata": {},
   "outputs": [],
   "source": [
    "def total(x:int, y:int):\n",
    "    return x+y"
   ]
  },
  {
   "cell_type": "code",
   "execution_count": 23,
   "id": "d44cd8b0",
   "metadata": {},
   "outputs": [
    {
     "data": {
      "text/plain": [
       "9"
      ]
     },
     "execution_count": 23,
     "metadata": {},
     "output_type": "execute_result"
    }
   ],
   "source": [
    "total(x=4,y=5)"
   ]
  },
  {
   "cell_type": "code",
   "execution_count": 24,
   "id": "b8eb7ba1",
   "metadata": {},
   "outputs": [
    {
     "name": "stderr",
     "output_type": "stream",
     "text": [
      "C:\\Users\\Mayank Goel\\AppData\\Local\\Temp\\ipykernel_10840\\2820849925.py:12: PydanticDeprecatedSince20: The `validate_arguments` method is deprecated; use `validate_call` instead. Deprecated in Pydantic V2.0 to be removed in V3.0. See Pydantic V2 Migration Guide at https://errors.pydantic.dev/2.11/migration/\n",
      "  @validate_arguments\n"
     ]
    }
   ],
   "source": [
    "from pydantic import validate_arguments\n",
    "# declaring validate_arguments makes sure that the arguments pased in the function have same datatype as those used when \n",
    "# defining the function otherwise it changes the datatype of the argument that does not match with the one define din the function\n",
    "#  eg \n",
    "# @validate_arguments\n",
    "# def sum(x:int,y:int)\n",
    "#  now if sum(x=4,y=\"345\")\n",
    "# validate_arguments will change y datatype from string to int as defined in the sum function\n",
    "# this esnures both the values passed in the function are int datatype and if not then changes the datatype as that is accepted or defined within the function\n",
    "\n",
    "\n",
    "@validate_arguments\n",
    "def product(x: int, y: int) -> int:\n",
    "    return x * y"
   ]
  },
  {
   "cell_type": "code",
   "execution_count": 25,
   "id": "b3204753",
   "metadata": {},
   "outputs": [
    {
     "data": {
      "text/plain": [
       "12"
      ]
     },
     "execution_count": 25,
     "metadata": {},
     "output_type": "execute_result"
    }
   ],
   "source": [
    "product(4,3)"
   ]
  },
  {
   "cell_type": "code",
   "execution_count": 26,
   "id": "fb1e31a9",
   "metadata": {},
   "outputs": [
    {
     "data": {
      "text/plain": [
       "128"
      ]
     },
     "execution_count": 26,
     "metadata": {},
     "output_type": "execute_result"
    }
   ],
   "source": [
    "product(4,'32')\n"
   ]
  },
  {
   "cell_type": "code",
   "execution_count": 1,
   "id": "58c76436",
   "metadata": {},
   "outputs": [],
   "source": [
    "import gdown"
   ]
  },
  {
   "cell_type": "code",
   "execution_count": 2,
   "id": "23a556ee",
   "metadata": {},
   "outputs": [],
   "source": [
    "url = \"https://drive.google.com/file/d/1vf_IWEeJMk0ni0KN059UpD5i24XbLk2D/view?usp=drive_link\""
   ]
  },
  {
   "cell_type": "code",
   "execution_count": 3,
   "id": "da451143",
   "metadata": {},
   "outputs": [
    {
     "data": {
      "text/plain": [
       "str"
      ]
     },
     "execution_count": 3,
     "metadata": {},
     "output_type": "execute_result"
    }
   ],
   "source": [
    "type(url)"
   ]
  },
  {
   "cell_type": "code",
   "execution_count": 5,
   "id": "93badf73",
   "metadata": {},
   "outputs": [
    {
     "data": {
      "text/plain": [
       "'1vf_IWEeJMk0ni0KN059UpD5i24XbLk2D'"
      ]
     },
     "execution_count": 5,
     "metadata": {},
     "output_type": "execute_result"
    }
   ],
   "source": [
    "file_id = url.split('/')[-2]\n",
    "file_id"
   ]
  },
  {
   "cell_type": "code",
   "execution_count": 6,
   "id": "852303f2",
   "metadata": {},
   "outputs": [
    {
     "name": "stderr",
     "output_type": "stream",
     "text": [
      "Downloading...\n",
      "From (original): https://drive.google.com/uc?export=download&id=1vf_IWEeJMk0ni0KN059UpD5i24XbLk2D\n",
      "From (redirected): https://drive.google.com/uc?export=download&id=1vf_IWEeJMk0ni0KN059UpD5i24XbLk2D&confirm=t&uuid=06ecc3b7-1063-4c8e-ac5d-65171afb3234\n",
      "To: c:\\Users\\Mayank Goel\\OneDrive\\Desktop\\Chest Cancer Classification Using ML Flow\\research\\Chest-CT-Scan-data.zip\n",
      "100%|██████████| 124M/124M [01:20<00:00, 1.55MB/s] \n"
     ]
    },
    {
     "data": {
      "text/plain": [
       "'Chest-CT-Scan-data.zip'"
      ]
     },
     "execution_count": 6,
     "metadata": {},
     "output_type": "execute_result"
    }
   ],
   "source": [
    "prefix = \"https://drive.google.com/uc?export=download&id=\"\n",
    "gdown.download(prefix+file_id,\"Chest-CT-Scan-data.zip\")\n"
   ]
  }
 ],
 "metadata": {
  "kernelspec": {
   "display_name": "chest_cancer",
   "language": "python",
   "name": "python3"
  },
  "language_info": {
   "codemirror_mode": {
    "name": "ipython",
    "version": 3
   },
   "file_extension": ".py",
   "mimetype": "text/x-python",
   "name": "python",
   "nbconvert_exporter": "python",
   "pygments_lexer": "ipython3",
   "version": "3.12.10"
  }
 },
 "nbformat": 4,
 "nbformat_minor": 5
}
